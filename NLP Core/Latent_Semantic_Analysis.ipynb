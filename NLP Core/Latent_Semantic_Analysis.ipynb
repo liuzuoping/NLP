{
 "cells": [
  {
   "cell_type": "markdown",
   "metadata": {},
   "source": [
    "# Latent Semantic Analysis using Python\n",
    "\n",
    "## Importing the Libraries"
   ]
  },
  {
   "cell_type": "code",
   "execution_count": 1,
   "metadata": {},
   "outputs": [],
   "source": [
    "from sklearn.feature_extraction.text import TfidfVectorizer\n",
    "from sklearn.decomposition import TruncatedSVD"
   ]
  },
  {
   "cell_type": "markdown",
   "metadata": {},
   "source": [
    "# Sample Data"
   ]
  },
  {
   "cell_type": "code",
   "execution_count": 2,
   "metadata": {},
   "outputs": [],
   "source": [
    "dataset = [\"The amount of polution is increasing day by day\",\n",
    "           \"The concert was just great\",\n",
    "           \"I love to see Gordon Ramsay cook\",\n",
    "           \"Google is introducing a new technology\",\n",
    "           \"AI Robots are examples of great technology present today\",\n",
    "           \"All of us were singing in the concert\",\n",
    "           \"We have launch campaigns to stop pollution and global warming\"]\n",
    "\n",
    "dataset = [line.lower() for line in dataset]"
   ]
  },
  {
   "cell_type": "markdown",
   "metadata": {},
   "source": [
    "# Creating Tfidf Model"
   ]
  },
  {
   "cell_type": "code",
   "execution_count": 3,
   "metadata": {},
   "outputs": [],
   "source": [
    "vectorizer = TfidfVectorizer()\n",
    "X = vectorizer.fit_transform(dataset)"
   ]
  },
  {
   "cell_type": "markdown",
   "metadata": {},
   "source": [
    "# Visualizing the Tfidf Model"
   ]
  },
  {
   "cell_type": "code",
   "execution_count": 4,
   "metadata": {},
   "outputs": [
    {
     "name": "stdout",
     "output_type": "stream",
     "text": [
      "  (0, 5)\t0.3211483974289089\n",
      "  (0, 9)\t0.6422967948578178\n",
      "  (0, 17)\t0.3211483974289089\n",
      "  (0, 19)\t0.2665807498646048\n",
      "  (0, 26)\t0.3211483974289089\n",
      "  (0, 24)\t0.2278643877752444\n",
      "  (0, 2)\t0.3211483974289089\n",
      "  (0, 34)\t0.2278643877752444\n"
     ]
    }
   ],
   "source": [
    "print(X[0])"
   ]
  },
  {
   "cell_type": "markdown",
   "metadata": {},
   "source": [
    "# Creating the SVD"
   ]
  },
  {
   "cell_type": "code",
   "execution_count": 5,
   "metadata": {},
   "outputs": [
    {
     "data": {
      "text/plain": [
       "TruncatedSVD(algorithm='randomized', n_components=4, n_iter=100,\n",
       "             random_state=None, tol=0.0)"
      ]
     },
     "execution_count": 5,
     "metadata": {},
     "output_type": "execute_result"
    }
   ],
   "source": [
    "lsa = TruncatedSVD(n_components = 4, n_iter = 100)\n",
    "lsa.fit(X)"
   ]
  },
  {
   "cell_type": "markdown",
   "metadata": {},
   "source": [
    "# First Column of V"
   ]
  },
  {
   "cell_type": "code",
   "execution_count": 6,
   "metadata": {},
   "outputs": [],
   "source": [
    "row1 = lsa.components_[3]"
   ]
  },
  {
   "cell_type": "markdown",
   "metadata": {},
   "source": [
    "# Visualizing the concepts"
   ]
  },
  {
   "cell_type": "code",
   "execution_count": 7,
   "metadata": {},
   "outputs": [
    {
     "name": "stdout",
     "output_type": "stream",
     "text": [
      "\n",
      "Concept 0 :\n",
      "('the', 0.3760982952926372)\n",
      "('concert', 0.34498873923306594)\n",
      "('great', 0.30012402589487364)\n",
      "('of', 0.2957980609526662)\n",
      "('just', 0.23736582929791245)\n",
      "('was', 0.23736582929791245)\n",
      "('day', 0.22892159541504487)\n",
      "('technology', 0.18383834567413374)\n",
      "('all', 0.17824025175628944)\n",
      "('in', 0.17824025175628944)\n",
      "\n",
      "Concept 1 :\n",
      "('to', 0.41578844396700637)\n",
      "('cook', 0.28359165793510643)\n",
      "('gordon', 0.28359165793510643)\n",
      "('love', 0.28359165793510643)\n",
      "('ramsay', 0.28359165793510643)\n",
      "('see', 0.28359165793510643)\n",
      "('and', 0.217306447112925)\n",
      "('campaigns', 0.217306447112925)\n",
      "('global', 0.217306447112925)\n",
      "('have', 0.217306447112925)\n",
      "\n",
      "Concept 2 :\n",
      "('technology', 0.37791806767144)\n",
      "('is', 0.34196143806319823)\n",
      "('google', 0.3413969441909744)\n",
      "('introducing', 0.3413969441909744)\n",
      "('new', 0.3413969441909744)\n",
      "('day', 0.14112432680994724)\n",
      "('are', 0.11387892195373053)\n",
      "('examples', 0.11387892195373053)\n",
      "('present', 0.11387892195373053)\n",
      "('robots', 0.11387892195373053)\n",
      "\n",
      "Concept 3 :\n",
      "('day', 0.46542676790411114)\n",
      "('by', 0.23271338395205557)\n",
      "('increasing', 0.23271338395205557)\n",
      "('polution', 0.23271338395205557)\n",
      "('amount', 0.2327133839520555)\n",
      "('is', 0.21264455202450017)\n",
      "('the', 0.12724213180694335)\n",
      "('in', 0.056446647527265005)\n",
      "('singing', 0.056446647527265005)\n",
      "('us', 0.056446647527265005)\n"
     ]
    }
   ],
   "source": [
    "terms = vectorizer.get_feature_names()\n",
    "for i,comp in enumerate(lsa.components_):\n",
    "    componentTerms = zip(terms,comp)\n",
    "    sortedTerms = sorted(componentTerms,key=lambda x:x[1],reverse=True)\n",
    "    sortedTerms = sortedTerms[:10]\n",
    "    print(\"\\nConcept\",i,\":\")\n",
    "    for term in sortedTerms:\n",
    "        print(term)"
   ]
  },
  {
   "cell_type": "code",
   "execution_count": 8,
   "metadata": {},
   "outputs": [
    {
     "name": "stdout",
     "output_type": "stream",
     "text": [
      "  (0, 5)\t0.3211483974289089\n",
      "  (0, 9)\t0.6422967948578178\n",
      "  (0, 17)\t0.3211483974289089\n",
      "  (0, 19)\t0.2665807498646048\n",
      "  (0, 26)\t0.3211483974289089\n",
      "  (0, 24)\t0.2278643877752444\n",
      "  (0, 2)\t0.3211483974289089\n",
      "  (0, 34)\t0.2278643877752444\n",
      "\n",
      "Concept 0:\n",
      "1.1297395470753948\n",
      "1.4959427190164025\n",
      "0\n",
      "0.18383834567413407\n",
      "0.7797604325216746\n",
      "1.37336559899095\n",
      "0\n",
      "\n",
      "Concept 1:\n",
      "0\n",
      "0\n",
      "1.8337467336425428\n",
      "0\n",
      "0\n",
      "0\n",
      "1.2850142324187055\n",
      "\n",
      "Concept 2:\n",
      "0.6242100916830993\n",
      "0\n",
      "0\n",
      "1.7440703383075653\n",
      "0.8334337554863548\n",
      "0\n",
      "0\n",
      "\n",
      "Concept 3:\n",
      "2.2015937554478886\n",
      "0.12724213180694446\n",
      "0\n",
      "0.21264455202449842\n",
      "0\n",
      "0.2965820743887412\n",
      "0\n"
     ]
    }
   ],
   "source": [
    "from sklearn.feature_extraction.text import TfidfVectorizer\n",
    "from sklearn.decomposition import TruncatedSVD\n",
    "import nltk\n",
    "\n",
    "# Sample Data\n",
    "dataset = [\"The amount of polution is increasing day by day\",\n",
    "           \"The concert was just great\",\n",
    "           \"I love to see Gordon Ramsay cook\",\n",
    "           \"Google is introducing a new technology\",\n",
    "           \"AI Robots are examples of great technology present today\",\n",
    "           \"All of us were singing in the concert\",\n",
    "           \"We have launch campaigns to stop pollution and global warming\"]\n",
    "\n",
    "dataset = [line.lower() for line in dataset]\n",
    "\n",
    "# Creating Tfidf Model\n",
    "vectorizer = TfidfVectorizer()\n",
    "X = vectorizer.fit_transform(dataset)\n",
    "\n",
    "# Visualizing the Tfidf Model\n",
    "print(X[0])\n",
    "\n",
    "\n",
    "# Creating the SVD\n",
    "lsa = TruncatedSVD(n_components = 4, n_iter = 100)\n",
    "lsa.fit(X)\n",
    "\n",
    "\n",
    "# First Column of V\n",
    "row1 = lsa.components_[3]\n",
    "\n",
    "\n",
    "# Word Concept Dictionary Creation\n",
    "concept_words = {}\n",
    "\n",
    "# Visualizing the concepts\n",
    "terms = vectorizer.get_feature_names()\n",
    "for i,comp in enumerate(lsa.components_):\n",
    "    componentTerms = zip(terms,comp)\n",
    "    sortedTerms = sorted(componentTerms,key=lambda x:x[1],reverse=True)\n",
    "    sortedTerms = sortedTerms[:10]\n",
    "    concept_words[\"Concept \"+str(i)] = sortedTerms\n",
    "    \n",
    "\n",
    "# Sentence Concepts\n",
    "for key in concept_words.keys():\n",
    "    sentence_scores = []\n",
    "    for sentence in dataset:\n",
    "        words = nltk.word_tokenize(sentence)\n",
    "        score = 0\n",
    "        for word in words:\n",
    "            for word_with_score in concept_words[key]:\n",
    "                if word == word_with_score[0]:\n",
    "                    score += word_with_score[1]\n",
    "        sentence_scores.append(score)\n",
    "    print(\"\\n\"+key+\":\")\n",
    "    for sentence_score in sentence_scores:\n",
    "        print(sentence_score)"
   ]
  },
  {
   "cell_type": "code",
   "execution_count": null,
   "metadata": {},
   "outputs": [],
   "source": []
  }
 ],
 "metadata": {
  "kernelspec": {
   "display_name": "Python 3",
   "language": "python",
   "name": "python3"
  },
  "language_info": {
   "codemirror_mode": {
    "name": "ipython",
    "version": 3
   },
   "file_extension": ".py",
   "mimetype": "text/x-python",
   "name": "python",
   "nbconvert_exporter": "python",
   "pygments_lexer": "ipython3",
   "version": "3.7.4"
  }
 },
 "nbformat": 4,
 "nbformat_minor": 2
}
