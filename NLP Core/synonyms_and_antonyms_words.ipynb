{
 "cells": [
  {
   "cell_type": "markdown",
   "metadata": {},
   "source": [
    "# Finding synonyms and antonyms of words"
   ]
  },
  {
   "cell_type": "code",
   "execution_count": 1,
   "metadata": {},
   "outputs": [
    {
     "name": "stdout",
     "output_type": "stream",
     "text": [
      "{'full', 'salutary', 'good', 'safe', 'trade_good', 'skillful', 'skilful', 'honorable', 'sound', 'dependable', 'in_force', 'practiced', 'right', 'unspoiled', 'commodity', 'proficient', 'ripe', 'expert', 'adept', 'undecomposed', 'unspoilt', 'thoroughly', 'dear', 'in_effect', 'beneficial', 'soundly', 'near', 'just', 'honest', 'upright', 'effective', 'secure', 'serious', 'goodness', 'estimable', 'respectable', 'well'}\n",
      "{'ill', 'evil', 'badness', 'evilness', 'bad'}\n"
     ]
    }
   ],
   "source": [
    "\n",
    "\n",
    "# Importing libraries\n",
    "from nltk.corpus import wordnet\n",
    "\n",
    "# Initializing the list of synnonyms and antonyms\n",
    "synonyms = []\n",
    "antonyms = []\n",
    "\n",
    "for syn in wordnet.synsets(\"good\"):\n",
    "    for s in syn.lemmas():\n",
    "        synonyms.append(s.name())\n",
    "        for a in s.antonyms():\n",
    "            antonyms.append(a.name())\n",
    "            \n",
    "            \n",
    "# Displaying the synonyms and antonyms\n",
    "print(set(synonyms))\n",
    "print(set(antonyms))"
   ]
  },
  {
   "cell_type": "markdown",
   "metadata": {},
   "source": [
    "# Word Negation Tracking - Strategy 1"
   ]
  },
  {
   "cell_type": "code",
   "execution_count": 3,
   "metadata": {},
   "outputs": [
    {
     "name": "stdout",
     "output_type": "stream",
     "text": [
      "I was not_happy with the team 's performance\n"
     ]
    }
   ],
   "source": [
    "import nltk\n",
    "\n",
    "sentence = \"I was not happy with the team's performance\"\n",
    "\n",
    "words = nltk.word_tokenize(sentence)\n",
    "\n",
    "new_words = []\n",
    "\n",
    "temp_word = ''\n",
    "for word in words:\n",
    "    if word == 'not':\n",
    "        temp_word = 'not_'\n",
    "    elif temp_word == 'not_':\n",
    "        word = temp_word + word\n",
    "        temp_word = ''\n",
    "    if word != 'not':\n",
    "        new_words.append(word)\n",
    "\n",
    "sentence = ' '.join(new_words)\n",
    "print(sentence)"
   ]
  },
  {
   "cell_type": "markdown",
   "metadata": {},
   "source": [
    "# Word Negation Tracking - Strategy 1"
   ]
  },
  {
   "cell_type": "code",
   "execution_count": 5,
   "metadata": {},
   "outputs": [
    {
     "name": "stdout",
     "output_type": "stream",
     "text": [
      "I was unhappy with the team 's performance\n"
     ]
    }
   ],
   "source": [
    "import nltk\n",
    "from nltk.corpus import wordnet\n",
    "\n",
    "sentence = \"I was not happy with the team's performance\"\n",
    "\n",
    "words = nltk.word_tokenize(sentence)\n",
    "\n",
    "new_words = []\n",
    "\n",
    "temp_word = ''\n",
    "for word in words:\n",
    "    antonyms = []\n",
    "    if word == 'not':\n",
    "        temp_word = 'not_'\n",
    "    elif temp_word == 'not_':\n",
    "        for syn in wordnet.synsets(word):\n",
    "            for s in syn.lemmas():\n",
    "                for a in s.antonyms():\n",
    "                    antonyms.append(a.name())\n",
    "        if len(antonyms) >= 1:\n",
    "            word = antonyms[0]\n",
    "        else:\n",
    "            word = temp_word + word\n",
    "        temp_word = ''\n",
    "    if word != 'not':\n",
    "        new_words.append(word)\n",
    "\n",
    "sentence = ' '.join(new_words)\n",
    "print(sentence)"
   ]
  },
  {
   "cell_type": "code",
   "execution_count": null,
   "metadata": {},
   "outputs": [],
   "source": []
  }
 ],
 "metadata": {
  "kernelspec": {
   "display_name": "Python 3",
   "language": "python",
   "name": "python3"
  },
  "language_info": {
   "codemirror_mode": {
    "name": "ipython",
    "version": 3
   },
   "file_extension": ".py",
   "mimetype": "text/x-python",
   "name": "python",
   "nbconvert_exporter": "python",
   "pygments_lexer": "ipython3",
   "version": "3.7.4"
  }
 },
 "nbformat": 4,
 "nbformat_minor": 2
}
